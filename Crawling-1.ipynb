{
 "cells": [
  {
   "cell_type": "code",
   "execution_count": 1,
   "id": "0c2cc8f1-fb50-4dc2-a426-d8c3f2b07327",
   "metadata": {},
   "outputs": [
    {
     "name": "stdout",
     "output_type": "stream",
     "text": [
      "^C\n",
      "^C\n"
     ]
    }
   ],
   "source": [
    "!pip install facebook_scraper pandas numpy\n",
    "!pip install --upgrade facebook_scraper"
   ]
  },
  {
   "cell_type": "code",
   "execution_count": 2,
   "id": "8e903a66-969a-44a5-af55-82c21336528a",
   "metadata": {},
   "outputs": [
    {
     "name": "stdout",
     "output_type": "stream",
     "text": [
      "Defaulting to user installation because normal site-packages is not writeable\n",
      "Requirement already satisfied: facebook_scraper in c:\\users\\admin\\appdata\\roaming\\python\\python39\\site-packages (0.2.59)\n",
      "Requirement already satisfied: pandas in c:\\programdata\\anaconda3\\lib\\site-packages (1.4.4)\n",
      "Requirement already satisfied: numpy in c:\\programdata\\anaconda3\\lib\\site-packages (1.21.5)\n",
      "Requirement already satisfied: requests-html<0.11.0,>=0.10.0 in c:\\users\\admin\\appdata\\roaming\\python\\python39\\site-packages (from facebook_scraper) (0.10.0)\n",
      "Requirement already satisfied: dateparser<2.0.0,>=1.0.0 in c:\\users\\admin\\appdata\\roaming\\python\\python39\\site-packages (from facebook_scraper) (1.1.8)\n",
      "Requirement already satisfied: demjson3<4.0.0,>=3.0.5 in c:\\users\\admin\\appdata\\roaming\\python\\python39\\site-packages (from facebook_scraper) (3.0.6)\n",
      "Requirement already satisfied: pytz>=2020.1 in c:\\programdata\\anaconda3\\lib\\site-packages (from pandas) (2022.1)\n",
      "Requirement already satisfied: python-dateutil>=2.8.1 in c:\\programdata\\anaconda3\\lib\\site-packages (from pandas) (2.8.2)\n",
      "Requirement already satisfied: regex!=2019.02.19,!=2021.8.27 in c:\\programdata\\anaconda3\\lib\\site-packages (from dateparser<2.0.0,>=1.0.0->facebook_scraper) (2022.7.9)\n",
      "Requirement already satisfied: tzlocal in c:\\users\\admin\\appdata\\roaming\\python\\python39\\site-packages (from dateparser<2.0.0,>=1.0.0->facebook_scraper) (5.2)\n",
      "Requirement already satisfied: six>=1.5 in c:\\programdata\\anaconda3\\lib\\site-packages (from python-dateutil>=2.8.1->pandas) (1.16.0)\n",
      "Requirement already satisfied: fake-useragent in c:\\users\\admin\\appdata\\roaming\\python\\python39\\site-packages (from requests-html<0.11.0,>=0.10.0->facebook_scraper) (1.3.0)\n",
      "Requirement already satisfied: pyppeteer>=0.0.14 in c:\\users\\admin\\appdata\\roaming\\python\\python39\\site-packages (from requests-html<0.11.0,>=0.10.0->facebook_scraper) (1.0.2)\n",
      "Requirement already satisfied: requests in c:\\programdata\\anaconda3\\lib\\site-packages (from requests-html<0.11.0,>=0.10.0->facebook_scraper) (2.28.1)\n",
      "Requirement already satisfied: parse in c:\\users\\admin\\appdata\\roaming\\python\\python39\\site-packages (from requests-html<0.11.0,>=0.10.0->facebook_scraper) (1.19.1)\n",
      "Requirement already satisfied: w3lib in c:\\programdata\\anaconda3\\lib\\site-packages (from requests-html<0.11.0,>=0.10.0->facebook_scraper) (1.21.0)\n",
      "Requirement already satisfied: bs4 in c:\\users\\admin\\appdata\\roaming\\python\\python39\\site-packages (from requests-html<0.11.0,>=0.10.0->facebook_scraper) (0.0.1)\n",
      "Requirement already satisfied: pyquery in c:\\users\\admin\\appdata\\roaming\\python\\python39\\site-packages (from requests-html<0.11.0,>=0.10.0->facebook_scraper) (2.0.0)\n",
      "Requirement already satisfied: appdirs<2.0.0,>=1.4.3 in c:\\programdata\\anaconda3\\lib\\site-packages (from pyppeteer>=0.0.14->requests-html<0.11.0,>=0.10.0->facebook_scraper) (1.4.4)\n",
      "Requirement already satisfied: tqdm<5.0.0,>=4.42.1 in c:\\programdata\\anaconda3\\lib\\site-packages (from pyppeteer>=0.0.14->requests-html<0.11.0,>=0.10.0->facebook_scraper) (4.64.1)\n",
      "Requirement already satisfied: importlib-metadata>=1.4 in c:\\programdata\\anaconda3\\lib\\site-packages (from pyppeteer>=0.0.14->requests-html<0.11.0,>=0.10.0->facebook_scraper) (4.11.3)\n",
      "Requirement already satisfied: pyee<9.0.0,>=8.1.0 in c:\\users\\admin\\appdata\\roaming\\python\\python39\\site-packages (from pyppeteer>=0.0.14->requests-html<0.11.0,>=0.10.0->facebook_scraper) (8.2.2)\n",
      "Requirement already satisfied: websockets<11.0,>=10.0 in c:\\users\\admin\\appdata\\roaming\\python\\python39\\site-packages (from pyppeteer>=0.0.14->requests-html<0.11.0,>=0.10.0->facebook_scraper) (10.4)\n",
      "Requirement already satisfied: certifi>=2021 in c:\\programdata\\anaconda3\\lib\\site-packages (from pyppeteer>=0.0.14->requests-html<0.11.0,>=0.10.0->facebook_scraper) (2022.9.14)\n",
      "Requirement already satisfied: urllib3<2.0.0,>=1.25.8 in c:\\programdata\\anaconda3\\lib\\site-packages (from pyppeteer>=0.0.14->requests-html<0.11.0,>=0.10.0->facebook_scraper) (1.26.11)\n",
      "Requirement already satisfied: beautifulsoup4 in c:\\programdata\\anaconda3\\lib\\site-packages (from bs4->requests-html<0.11.0,>=0.10.0->facebook_scraper) (4.11.1)\n",
      "Requirement already satisfied: importlib-resources>=5.0 in c:\\users\\admin\\appdata\\roaming\\python\\python39\\site-packages (from fake-useragent->requests-html<0.11.0,>=0.10.0->facebook_scraper) (6.1.1)\n",
      "Requirement already satisfied: cssselect>=1.2.0 in c:\\users\\admin\\appdata\\roaming\\python\\python39\\site-packages (from pyquery->requests-html<0.11.0,>=0.10.0->facebook_scraper) (1.2.0)\n",
      "Requirement already satisfied: lxml>=2.1 in c:\\programdata\\anaconda3\\lib\\site-packages (from pyquery->requests-html<0.11.0,>=0.10.0->facebook_scraper) (4.9.1)\n",
      "Requirement already satisfied: idna<4,>=2.5 in c:\\programdata\\anaconda3\\lib\\site-packages (from requests->requests-html<0.11.0,>=0.10.0->facebook_scraper) (3.3)\n",
      "Requirement already satisfied: charset-normalizer<3,>=2 in c:\\programdata\\anaconda3\\lib\\site-packages (from requests->requests-html<0.11.0,>=0.10.0->facebook_scraper) (2.0.4)\n",
      "Requirement already satisfied: tzdata in c:\\users\\admin\\appdata\\roaming\\python\\python39\\site-packages (from tzlocal->dateparser<2.0.0,>=1.0.0->facebook_scraper) (2023.3)\n",
      "Requirement already satisfied: zipp>=0.5 in c:\\programdata\\anaconda3\\lib\\site-packages (from importlib-metadata>=1.4->pyppeteer>=0.0.14->requests-html<0.11.0,>=0.10.0->facebook_scraper) (3.8.0)\n",
      "Requirement already satisfied: colorama in c:\\programdata\\anaconda3\\lib\\site-packages (from tqdm<5.0.0,>=4.42.1->pyppeteer>=0.0.14->requests-html<0.11.0,>=0.10.0->facebook_scraper) (0.4.5)\n",
      "Requirement already satisfied: soupsieve>1.2 in c:\\programdata\\anaconda3\\lib\\site-packages (from beautifulsoup4->bs4->requests-html<0.11.0,>=0.10.0->facebook_scraper) (2.3.1)\n"
     ]
    }
   ],
   "source": [
    "from facebook_scraper import get_posts\n",
    "import pandas as pd\n",
    "import numpy as np\n",
    "import requests\n",
    "from http.cookiejar import CookieJar\n",
    "from random import choice"
   ]
  },
  {
   "cell_type": "code",
   "execution_count": 3,
   "id": "e4f94d94-259d-4e3c-8337-9f8832d19ad4",
   "metadata": {},
   "outputs": [],
   "source": [
    "FANPAGE_URL = \"ucberkeley\"\n",
    "FOLDER_PATH = r\"C:\\Users\\Admin\\Downloads\\data analysis with python\"\n",
    "COOKIE_PATH = \"./cookies.txt\"\n",
    "PROXIES_PATH = \"./valid_proxies.txt\"\n",
    "custom_user_agent = \"Mozilla/5.0 (Windows NT 10.0; Win64; x64) AppleWebKit/537.36 (KHTML, like Gecko) Chrome/119.0.0.0 Safari/537.36\""
   ]
  },
  {
   "cell_type": "code",
   "execution_count": 4,
   "id": "00b28f39-c484-4ae4-94cd-1004b06ed4c5",
   "metadata": {},
   "outputs": [],
   "source": [
    "def read_proxy_list(file_path):\n",
    "    with open(file_path, \"r\") as f:\n",
    "        proxies = f.read().split(\"/n\")\n",
    "    return proxies\n",
    "\n",
    "def read_cookie(file_path):\n",
    "    with open(file_path, \"r\") as f:\n",
    "        return f.read().strip()"
   ]
  },
  {
   "cell_type": "code",
   "execution_count": 5,
   "id": "fc8cbd3b-d138-4d60-b851-55568abaf86c",
   "metadata": {},
   "outputs": [],
   "source": [
    "proxies = read_proxy_list(PROXIES_PATH)\n",
    "cookie = read_cookie(COOKIE_PATH)\n",
    "session = requests.Session()\n",
    "session.cookies[\"Tanh Farmer\"] = cookie\n",
    "session.proxies = {'http': proxies[0], 'https': proxies[0]}"
   ]
  },
  {
   "cell_type": "code",
   "execution_count": 6,
   "id": "cdfe80d1-30fb-458a-a03f-0e82e4d559b5",
   "metadata": {},
   "outputs": [
    {
     "name": "stdout",
     "output_type": "stream",
     "text": [
      "Defaulting to user installation because normal site-packages is not writeable\n",
      "Requirement already satisfied: facebook_scraper in c:\\users\\admin\\appdata\\roaming\\python\\python39\\site-packages (0.2.59)\n",
      "Requirement already satisfied: demjson3<4.0.0,>=3.0.5 in c:\\users\\admin\\appdata\\roaming\\python\\python39\\site-packages (from facebook_scraper) (3.0.6)\n",
      "Requirement already satisfied: dateparser<2.0.0,>=1.0.0 in c:\\users\\admin\\appdata\\roaming\\python\\python39\\site-packages (from facebook_scraper) (1.1.8)\n",
      "Requirement already satisfied: requests-html<0.11.0,>=0.10.0 in c:\\users\\admin\\appdata\\roaming\\python\\python39\\site-packages (from facebook_scraper) (0.10.0)\n",
      "Requirement already satisfied: regex!=2019.02.19,!=2021.8.27 in c:\\programdata\\anaconda3\\lib\\site-packages (from dateparser<2.0.0,>=1.0.0->facebook_scraper) (2022.7.9)\n",
      "Requirement already satisfied: tzlocal in c:\\users\\admin\\appdata\\roaming\\python\\python39\\site-packages (from dateparser<2.0.0,>=1.0.0->facebook_scraper) (5.2)\n",
      "Requirement already satisfied: pytz in c:\\programdata\\anaconda3\\lib\\site-packages (from dateparser<2.0.0,>=1.0.0->facebook_scraper) (2022.1)\n",
      "Requirement already satisfied: python-dateutil in c:\\programdata\\anaconda3\\lib\\site-packages (from dateparser<2.0.0,>=1.0.0->facebook_scraper) (2.8.2)\n",
      "Requirement already satisfied: pyppeteer>=0.0.14 in c:\\users\\admin\\appdata\\roaming\\python\\python39\\site-packages (from requests-html<0.11.0,>=0.10.0->facebook_scraper) (1.0.2)\n",
      "Requirement already satisfied: requests in c:\\programdata\\anaconda3\\lib\\site-packages (from requests-html<0.11.0,>=0.10.0->facebook_scraper) (2.28.1)\n",
      "Requirement already satisfied: parse in c:\\users\\admin\\appdata\\roaming\\python\\python39\\site-packages (from requests-html<0.11.0,>=0.10.0->facebook_scraper) (1.19.1)\n",
      "Requirement already satisfied: bs4 in c:\\users\\admin\\appdata\\roaming\\python\\python39\\site-packages (from requests-html<0.11.0,>=0.10.0->facebook_scraper) (0.0.1)\n",
      "Requirement already satisfied: w3lib in c:\\programdata\\anaconda3\\lib\\site-packages (from requests-html<0.11.0,>=0.10.0->facebook_scraper) (1.21.0)\n",
      "Requirement already satisfied: pyquery in c:\\users\\admin\\appdata\\roaming\\python\\python39\\site-packages (from requests-html<0.11.0,>=0.10.0->facebook_scraper) (2.0.0)\n",
      "Requirement already satisfied: fake-useragent in c:\\users\\admin\\appdata\\roaming\\python\\python39\\site-packages (from requests-html<0.11.0,>=0.10.0->facebook_scraper) (1.3.0)\n",
      "Requirement already satisfied: certifi>=2021 in c:\\programdata\\anaconda3\\lib\\site-packages (from pyppeteer>=0.0.14->requests-html<0.11.0,>=0.10.0->facebook_scraper) (2022.9.14)\n",
      "Requirement already satisfied: pyee<9.0.0,>=8.1.0 in c:\\users\\admin\\appdata\\roaming\\python\\python39\\site-packages (from pyppeteer>=0.0.14->requests-html<0.11.0,>=0.10.0->facebook_scraper) (8.2.2)\n",
      "Requirement already satisfied: appdirs<2.0.0,>=1.4.3 in c:\\programdata\\anaconda3\\lib\\site-packages (from pyppeteer>=0.0.14->requests-html<0.11.0,>=0.10.0->facebook_scraper) (1.4.4)\n",
      "Requirement already satisfied: tqdm<5.0.0,>=4.42.1 in c:\\programdata\\anaconda3\\lib\\site-packages (from pyppeteer>=0.0.14->requests-html<0.11.0,>=0.10.0->facebook_scraper) (4.64.1)\n",
      "Requirement already satisfied: urllib3<2.0.0,>=1.25.8 in c:\\programdata\\anaconda3\\lib\\site-packages (from pyppeteer>=0.0.14->requests-html<0.11.0,>=0.10.0->facebook_scraper) (1.26.11)\n",
      "Requirement already satisfied: websockets<11.0,>=10.0 in c:\\users\\admin\\appdata\\roaming\\python\\python39\\site-packages (from pyppeteer>=0.0.14->requests-html<0.11.0,>=0.10.0->facebook_scraper) (10.4)\n",
      "Requirement already satisfied: importlib-metadata>=1.4 in c:\\programdata\\anaconda3\\lib\\site-packages (from pyppeteer>=0.0.14->requests-html<0.11.0,>=0.10.0->facebook_scraper) (4.11.3)\n",
      "Requirement already satisfied: beautifulsoup4 in c:\\programdata\\anaconda3\\lib\\site-packages (from bs4->requests-html<0.11.0,>=0.10.0->facebook_scraper) (4.11.1)\n",
      "Requirement already satisfied: importlib-resources>=5.0 in c:\\users\\admin\\appdata\\roaming\\python\\python39\\site-packages (from fake-useragent->requests-html<0.11.0,>=0.10.0->facebook_scraper) (6.1.1)\n",
      "Requirement already satisfied: cssselect>=1.2.0 in c:\\users\\admin\\appdata\\roaming\\python\\python39\\site-packages (from pyquery->requests-html<0.11.0,>=0.10.0->facebook_scraper) (1.2.0)\n",
      "Requirement already satisfied: lxml>=2.1 in c:\\programdata\\anaconda3\\lib\\site-packages (from pyquery->requests-html<0.11.0,>=0.10.0->facebook_scraper) (4.9.1)\n",
      "Requirement already satisfied: six>=1.5 in c:\\programdata\\anaconda3\\lib\\site-packages (from python-dateutil->dateparser<2.0.0,>=1.0.0->facebook_scraper) (1.16.0)\n",
      "Requirement already satisfied: charset-normalizer<3,>=2 in c:\\programdata\\anaconda3\\lib\\site-packages (from requests->requests-html<0.11.0,>=0.10.0->facebook_scraper) (2.0.4)\n",
      "Requirement already satisfied: idna<4,>=2.5 in c:\\programdata\\anaconda3\\lib\\site-packages (from requests->requests-html<0.11.0,>=0.10.0->facebook_scraper) (3.3)\n",
      "Requirement already satisfied: tzdata in c:\\users\\admin\\appdata\\roaming\\python\\python39\\site-packages (from tzlocal->dateparser<2.0.0,>=1.0.0->facebook_scraper) (2023.3)\n",
      "Requirement already satisfied: zipp>=0.5 in c:\\programdata\\anaconda3\\lib\\site-packages (from importlib-metadata>=1.4->pyppeteer>=0.0.14->requests-html<0.11.0,>=0.10.0->facebook_scraper) (3.8.0)\n",
      "Requirement already satisfied: colorama in c:\\programdata\\anaconda3\\lib\\site-packages (from tqdm<5.0.0,>=4.42.1->pyppeteer>=0.0.14->requests-html<0.11.0,>=0.10.0->facebook_scraper) (0.4.5)\n",
      "Requirement already satisfied: soupsieve>1.2 in c:\\programdata\\anaconda3\\lib\\site-packages (from beautifulsoup4->bs4->requests-html<0.11.0,>=0.10.0->facebook_scraper) (2.3.1)\n"
     ]
    }
   ],
   "source": [
    "post_data = []\n",
    "for proxy in proxies:\n",
    "    session.proxies = {'http': proxy, 'https': proxy}\n",
    "    for post in get_posts(\n",
    "        FANPAGE_URL, \n",
    "        user_agent = custom_user_agent,\n",
    "        options ={\"comments\": True, \"reactors\": True, \"allow_extra_requests\": True},\n",
    "        extra_info = True, \n",
    "        pages = 50, \n",
    "        cookies = COOKIE_PATH, \n",
    "        session = session,\n",
    "    ):\n",
    "        post_data.append(post)"
   ]
  },
  {
   "cell_type": "code",
   "execution_count": 7,
   "id": "c134aed7-59d6-41d0-95c5-0fe93905976b",
   "metadata": {},
   "outputs": [
    {
     "ename": "IndexError",
     "evalue": "list index out of range",
     "output_type": "error",
     "traceback": [
      "\u001b[1;31m---------------------------------------------------------------------------\u001b[0m",
      "\u001b[1;31mIndexError\u001b[0m                                Traceback (most recent call last)",
      "\u001b[1;32m~\\AppData\\Local\\Temp\\ipykernel_26784\\3582947944.py\u001b[0m in \u001b[0;36m<module>\u001b[1;34m\u001b[0m\n\u001b[1;32m----> 1\u001b[1;33m \u001b[0mpost_df_full\u001b[0m \u001b[1;33m=\u001b[0m \u001b[0mpd\u001b[0m\u001b[1;33m.\u001b[0m\u001b[0mDataFrame\u001b[0m\u001b[1;33m(\u001b[0m\u001b[0mcolumns\u001b[0m\u001b[1;33m=\u001b[0m\u001b[0mpost_data\u001b[0m\u001b[1;33m[\u001b[0m\u001b[1;36m0\u001b[0m\u001b[1;33m]\u001b[0m\u001b[1;33m.\u001b[0m\u001b[0mkeys\u001b[0m\u001b[1;33m(\u001b[0m\u001b[1;33m)\u001b[0m\u001b[1;33m,\u001b[0m \u001b[0mindex\u001b[0m\u001b[1;33m=\u001b[0m\u001b[0mrange\u001b[0m\u001b[1;33m(\u001b[0m\u001b[0mlen\u001b[0m\u001b[1;33m(\u001b[0m\u001b[0mpost_data\u001b[0m\u001b[1;33m)\u001b[0m\u001b[1;33m)\u001b[0m\u001b[1;33m,\u001b[0m \u001b[0mdata\u001b[0m \u001b[1;33m=\u001b[0m \u001b[0mpost_data\u001b[0m\u001b[1;33m)\u001b[0m\u001b[1;33m\u001b[0m\u001b[1;33m\u001b[0m\u001b[0m\n\u001b[0m\u001b[0;32m      2\u001b[0m \u001b[0mexcel_path\u001b[0m \u001b[1;33m=\u001b[0m \u001b[0mFOLDER_PATH\u001b[0m \u001b[1;33m+\u001b[0m \u001b[0mFANPAGE_URL\u001b[0m \u001b[1;33m+\u001b[0m \u001b[1;34m\".xlsx\"\u001b[0m\u001b[1;33m\u001b[0m\u001b[1;33m\u001b[0m\u001b[0m\n\u001b[0;32m      3\u001b[0m \u001b[0mpost_df_full\u001b[0m\u001b[1;33m.\u001b[0m\u001b[0mto_excel\u001b[0m\u001b[1;33m(\u001b[0m\u001b[0mexcel_path\u001b[0m\u001b[1;33m,\u001b[0m \u001b[0mindex\u001b[0m \u001b[1;33m=\u001b[0m \u001b[1;32mFalse\u001b[0m\u001b[1;33m,\u001b[0m \u001b[0mencoding\u001b[0m \u001b[1;33m=\u001b[0m \u001b[1;34m'utf-8'\u001b[0m\u001b[1;33m)\u001b[0m\u001b[1;33m\u001b[0m\u001b[1;33m\u001b[0m\u001b[0m\n\u001b[0;32m      4\u001b[0m \u001b[0mprint\u001b[0m\u001b[1;33m(\u001b[0m\u001b[0mexcel_path\u001b[0m\u001b[1;33m)\u001b[0m\u001b[1;33m\u001b[0m\u001b[1;33m\u001b[0m\u001b[0m\n",
      "\u001b[1;31mIndexError\u001b[0m: list index out of range"
     ]
    }
   ],
   "source": [
    "post_df_full = pd.DataFrame(columns=post_data[0].keys(), index=range(len(post_data)), data = post_data)\n",
    "excel_path = FOLDER_PATH + FANPAGE_URL + \".xlsx\"\n",
    "post_df_full.to_excel(excel_path, index = False, encoding = 'utf-8')\n",
    "print(excel_path)"
   ]
  },
  {
   "cell_type": "code",
   "execution_count": null,
   "id": "929cd588-6e48-41b9-b356-94896c658194",
   "metadata": {},
   "outputs": [],
   "source": [
    "post_df_full"
   ]
  }
 ],
 "metadata": {
  "kernelspec": {
   "display_name": "Python 3 (ipykernel)",
   "language": "python",
   "name": "python3"
  },
  "language_info": {
   "codemirror_mode": {
    "name": "ipython",
    "version": 3
   },
   "file_extension": ".py",
   "mimetype": "text/x-python",
   "name": "python",
   "nbconvert_exporter": "python",
   "pygments_lexer": "ipython3",
   "version": "3.9.13"
  }
 },
 "nbformat": 4,
 "nbformat_minor": 5
}
